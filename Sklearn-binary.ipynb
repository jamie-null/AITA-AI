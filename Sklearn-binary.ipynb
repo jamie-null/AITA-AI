{
 "cells": [
  {
   "cell_type": "code",
   "execution_count": 1,
   "metadata": {},
   "outputs": [],
   "source": [
    "import pandas as pd\n",
    "with pd.HDFStore(\"store.h5\") as store:\n",
    "    df = store['ddf']"
   ]
  },
  {
   "cell_type": "code",
   "execution_count": 8,
   "metadata": {},
   "outputs": [
    {
     "name": "stdout",
     "output_type": "stream",
     "text": [
      "Index(['label', 'created_utc', 'gilded', 'isEdited', 'locked', 'm_esh',\n",
      "       'm_info', 'm_nah', 'm_nta', 'm_yta', 'num_comments', 'over_18', 'score',\n",
      "       'selftext', 'spoiler', 'sum', 't_esh', 't_info', 't_nah', 't_nta',\n",
      "       't_yta', 'title', 'upvote_ratio'],\n",
      "      dtype='object')\n",
      "0.0    39845\n",
      "3.0    14457\n",
      "1.0     8882\n",
      "2.0     4414\n",
      "Name: label, dtype: int64\n"
     ]
    }
   ],
   "source": [
    "ddf = df.rename(columns={'class':'label'}).query('isEdited != 1 & label != -1')\n",
    "print(ddf.columns)\n",
    "print(ddf['label'].value_counts())"
   ]
  },
  {
   "cell_type": "raw",
   "metadata": {},
   "source": [
    "def norm_row(row):\n",
    "    if row['t_esh'] == row['t_esh']:\n",
    "        #print(row['t_esh'], row['t_nta'], row['t_nah'], row['t_yta'])\n",
    "        sum = row['t_esh'] + row['t_nta'] + row['t_nah'] + row['t_yta']\n",
    "        if sum > 0:\n",
    "            row['t_op'] = (row['t_esh'] + row['t_yta']) / sum\n",
    "            row['t_to'] = (row['t_esh'] + row['t_nta']) / sum\n",
    "    return row\n",
    "\n",
    "ddf = ddf.apply(norm_row,axis=1)\n",
    "#norm_row(ddf.loc['agsk8j'])"
   ]
  },
  {
   "cell_type": "raw",
   "metadata": {},
   "source": [
    "ddf.dropna(subset=['t_to']).query(\"(a_op != (t_op > 0.5)) | (a_to != (t_to >0.5))\").sample(10)"
   ]
  },
  {
   "cell_type": "raw",
   "metadata": {},
   "source": [
    "import sklearn.metrics\n",
    "print(len(ddf))\n",
    "x = ddf.dropna(subset=['t_to'])\n",
    "print(len(x))\n",
    "print(sklearn.metrics.roc_auc_score(x[['a_op','a_to']],x[['t_op','t_to']]))\n",
    "x = x.query(\"(a_op == (t_op > 0.5)) & (a_to == (t_to >0.5))\")\n",
    "print(len(x))\n",
    "#x = x.query('(t_op != 1 & t_op != 0) |  (t_to != 1 & t_op != 0)')\n",
    "#print(len(x))\n",
    "#x[['t_op','t_to']].describe()"
   ]
  },
  {
   "cell_type": "code",
   "execution_count": null,
   "metadata": {},
   "outputs": [],
   "source": []
  },
  {
   "cell_type": "code",
   "execution_count": null,
   "metadata": {},
   "outputs": [],
   "source": []
  },
  {
   "cell_type": "code",
   "execution_count": null,
   "metadata": {},
   "outputs": [],
   "source": [
    "sel = ddf.drop(columns=['a_inf','sum','t_info','locked','gilded','score','num_comments','over_18','spoiler'])\n",
    "sel.corr().style.background_gradient(cmap='coolwarm').set_precision(2)"
   ]
  },
  {
   "cell_type": "code",
   "execution_count": null,
   "metadata": {},
   "outputs": [],
   "source": [
    "x = ddf.dropna(subset=['t_to']).query(\"(a_op == (t_op > 0.5)) & (a_to == (t_to >0.5))\")\n",
    "target = x[['a_op','a_to','t_op','t_to']]\n",
    "data = x[['selftext','title']]\n",
    "from sklearn.model_selection import train_test_split\n",
    "xtrain, xtest, ytrain, ytest = train_test_split(data, target, test_size=0.5, random_state=0)"
   ]
  },
  {
   "cell_type": "markdown",
   "metadata": {},
   "source": [
    "Lesson: None of the variable other than upvote_ratio seem particularly correlated with judgemetn. Not sure how helpful these soft target variables are either. Edits also seem to generally suggest YTA. Will try again with better correlation indicator"
   ]
  },
  {
   "cell_type": "code",
   "execution_count": null,
   "metadata": {},
   "outputs": [],
   "source": [
    "ytrain[['t_op','t_to']]"
   ]
  },
  {
   "cell_type": "code",
   "execution_count": null,
   "metadata": {},
   "outputs": [],
   "source": [
    "def bin2cat(row):\n",
    "    \"\"\"Converts from the two binary labels back into the 4 post categories\n",
    "    Assumes a_op is first, and a_to is second\n",
    "    0 - NAH\n",
    "    1 - NTA\n",
    "    2 - YTA\n",
    "    3 - ESH\n",
    "    \"\"\"\n",
    "    return row[0] * 2 + row[1]\n",
    "\n",
    "ytrain_cat = ytrain.apply(bin2cat,axis=1)\n",
    "ytest_cat = ytest.apply(bin2cat,axis=1)"
   ]
  },
  {
   "cell_type": "code",
   "execution_count": null,
   "metadata": {},
   "outputs": [],
   "source": [
    "from sklearn.feature_extraction.text import TfidfVectorizer\n",
    "tfv = TfidfVectorizer()\n",
    "tfv.fit(list(xtrain.selftext) + list(xtrain.title) + list(xtest.selftext) + list(xtest.title))\n",
    "\n",
    "from scipy.sparse import hstack\n",
    "xtrain_tfv = tfv.transform(xtrain.title) + tfv.transform(xtrain.selftext)\n",
    "xtest_tfv = tfv.transform(xtest.title) + tfv.transform(xtest.selftext)"
   ]
  },
  {
   "cell_type": "code",
   "execution_count": null,
   "metadata": {},
   "outputs": [],
   "source": [
    "from sklearn.feature_extraction.text import CountVectorizer\n",
    "cfv = TfidfVectorizer()\n",
    "cfv.fit(list(xtrain.selftext) + list(xtrain.title) + list(xtest.selftext) + list(xtest.title))\n",
    "\n",
    "from scipy.sparse import hstack\n",
    "xtrain_cfv = hstack((cfv.transform(xtrain.title),cfv.transform(xtrain.selftext)))\n",
    "xtest_cfv = hstack((cfv.transform(xtest.title),cfv.transform(xtest.selftext)))"
   ]
  },
  {
   "cell_type": "code",
   "execution_count": null,
   "metadata": {},
   "outputs": [],
   "source": [
    "#from sklearn.naive_bayes import MultinomialNB\n",
    "from sklearn.multiclass import OneVsRestClassifier\n",
    "from sklearn.multioutput import MultiOutputRegressor\n",
    "from xgboost import XGBRegressor\n",
    "\n",
    "#soft classifier\n",
    "sclf = MultiOutputRegressor(XGBRegressor())\n",
    "sclf.fit(xtrain_tfv, ytrain[['t_op','t_to']])\n",
    "hclf = OneVsRestClassifier(XGBRegressor())\n",
    "hclf.fit(xtrain_tfv, ytrain[['a_op','a_to']])\n",
    "\n",
    "#categories = np.apply_along_axis(bin2cat,1,np.around(predictions))\n",
    "#print(sklearn.metrics.log_loss(ytest_cat,predictions))"
   ]
  },
  {
   "cell_type": "code",
   "execution_count": null,
   "metadata": {},
   "outputs": [],
   "source": [
    "soft_pred = sclf.predict(xtest_tfv)\n",
    "hard_pred = hclf.predict(xtest_tfv)"
   ]
  },
  {
   "cell_type": "code",
   "execution_count": null,
   "metadata": {},
   "outputs": [],
   "source": [
    "import sklearn.metrics\n",
    "import numpy as np\n",
    "pdf = pd.DataFrame(soft_pred, columns=['a_op','a_to'])\n",
    "print(pdf.describe())\n",
    "pdf = pd.DataFrame(hard_pred, columns=['a_op','a_to'])\n",
    "print(pdf.describe())"
   ]
  },
  {
   "cell_type": "code",
   "execution_count": null,
   "metadata": {},
   "outputs": [],
   "source": [
    "print(sklearn.metrics.roc_auc_score(ytest[['a_op','a_to']],soft_pred))\n",
    "print(sklearn.metrics.roc_auc_score(ytest[['a_op','a_to']],hard_pred))"
   ]
  },
  {
   "cell_type": "code",
   "execution_count": null,
   "metadata": {},
   "outputs": [],
   "source": [
    "pred_bin = np.around(soft_pred)\n",
    "\n",
    "import pprint\n",
    "pprint.pprint(sklearn.metrics.classification_report(ytest[['a_op','a_to']],pred_bin,output_dict=True))"
   ]
  },
  {
   "cell_type": "code",
   "execution_count": null,
   "metadata": {},
   "outputs": [],
   "source": [
    "pprint.pprint(sklearn.metrics.classification_report(ytest[['a_op','a_to']],hard_pred,output_dict=True))"
   ]
  },
  {
   "cell_type": "code",
   "execution_count": null,
   "metadata": {},
   "outputs": [],
   "source": [
    "pdf = pd.DataFrame(pred_bin, columns=['a_op','a_to'])\n",
    "print(pd.crosstab(pdf.a_op,pdf.a_to,normalize=True))\n",
    "soft_pred_cat = pdf.apply(bin2cat,axis=1)\n",
    "pdf = pd.DataFrame(hard_pred, columns=['a_op','a_to'])\n",
    "print(pd.crosstab(pdf.a_op,pdf.a_to,normalize=True))\n",
    "hard_pred_cat = pdf.apply(bin2cat,axis=1)"
   ]
  },
  {
   "cell_type": "code",
   "execution_count": null,
   "metadata": {
    "scrolled": true
   },
   "outputs": [],
   "source": [
    "#    0 - NAH\n",
    "#    1 - NTA\n",
    "#    2 - YTA\n",
    "#    3 - ESH\n",
    "\n",
    "pred_cat = pdf.apply(bin2cat,axis=1)\n",
    "sklearn.metrics.classification_report(ytest_cat,hard_pred_cat)"
   ]
  },
  {
   "cell_type": "code",
   "execution_count": null,
   "metadata": {},
   "outputs": [],
   "source": [
    "print(sklearn.metrics.balanced_accuracy_score(ytest_cat,hard_pred_cat))\n",
    "print(sklearn.metrics.balanced_accuracy_score(ytest_cat,soft_pred_cat))"
   ]
  },
  {
   "cell_type": "code",
   "execution_count": null,
   "metadata": {},
   "outputs": [],
   "source": []
  }
 ],
 "metadata": {
  "kernelspec": {
   "display_name": "Python 3",
   "language": "python",
   "name": "python3"
  },
  "language_info": {
   "codemirror_mode": {
    "name": "ipython",
    "version": 3
   },
   "file_extension": ".py",
   "mimetype": "text/x-python",
   "name": "python",
   "nbconvert_exporter": "python",
   "pygments_lexer": "ipython3",
   "version": "3.7.3"
  }
 },
 "nbformat": 4,
 "nbformat_minor": 2
}
